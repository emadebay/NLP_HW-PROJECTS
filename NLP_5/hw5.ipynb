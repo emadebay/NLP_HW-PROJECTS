{
  "nbformat": 4,
  "nbformat_minor": 0,
  "metadata": {
    "colab": {
      "provenance": []
    },
    "kernelspec": {
      "name": "python3",
      "display_name": "Python 3"
    },
    "language_info": {
      "name": "python"
    }
  },
  "cells": [
    {
      "cell_type": "code",
      "execution_count": 1,
      "metadata": {
        "colab": {
          "base_uri": "https://localhost:8080/"
        },
        "id": "e2We7XN987PA",
        "outputId": "ffa15947-16e0-4c24-9a3a-cfd1a9e5bc43"
      },
      "outputs": [
        {
          "output_type": "stream",
          "name": "stdout",
          "text": [
            "Mounted at /content/drive\n"
          ]
        },
        {
          "output_type": "stream",
          "name": "stderr",
          "text": [
            "[nltk_data] Downloading package wordnet to /root/nltk_data...\n"
          ]
        }
      ],
      "source": [
        "from google.colab import drive\n",
        "drive.mount('/content/drive')\n",
        "\n",
        "import nltk\n",
        "nltk.download('wordnet')\n",
        "from nltk.corpus import wordnet as wn"
      ]
    },
    {
      "cell_type": "code",
      "source": [
        "#question a\n",
        "def find_hypernym():\n",
        "    house = wn.synset('house.n.01')\n",
        "    hypernyms = house.hypernyms()\n",
        "\n",
        "    if hypernyms:\n",
        "        print(\"Hypernyms of 'house:\")\n",
        "        for hypernym in hypernyms:\n",
        "            # Split the hypernym name by periods and keep only the first part\n",
        "            hypernym_name = hypernym.name().split('.')[0]\n",
        "            print(hypernym_name)\n",
        "    else:\n",
        "        print(\"No hypernyms found for 'house.n.01'.\")\n",
        "\n",
        "find_hypernym()"
      ],
      "metadata": {
        "colab": {
          "base_uri": "https://localhost:8080/"
        },
        "id": "q20vD4BN9V5c",
        "outputId": "4691b413-206a-411d-8f40-e0f4bbd35635"
      },
      "execution_count": 2,
      "outputs": [
        {
          "output_type": "stream",
          "name": "stdout",
          "text": [
            "Hypernyms of 'house:\n",
            "building\n",
            "dwelling\n"
          ]
        }
      ]
    },
    {
      "cell_type": "code",
      "source": [
        "#question b\n",
        "from nltk.corpus import wordnet as wn\n",
        "\n",
        "# Get the synsets for the words \"mouse\" and \"horse\"\n",
        "mouse_synsets = wn.synsets('mouse')\n",
        "horse_synsets = wn.synsets('horse')\n",
        "vacation_synsets = wn.synsets('vacation')\n",
        "\n",
        "# Get the first synset for each word\n",
        "mouse_synset = mouse_synsets[0]\n",
        "horse_synset = horse_synsets[0]\n",
        "vacation_synset = vacation_synsets[0]\n",
        "\n",
        "# Calculate the path similarity between the first senses of \"mouse\" and \"horse\"\n",
        "mouse_horse_similarity = mouse_synset.path_similarity(horse_synset)\n",
        "print(\"Path similarity between 'mouse' and 'horse':\", mouse_horse_similarity)\n",
        "\n",
        "# Calculate the path similarity between the first senses of \"horse\" and \"vacation\"\n",
        "horse_vacation_similarity = horse_synset.path_similarity(vacation_synset)\n",
        "print(\"Path similarity between 'horse' and 'vacation':\", horse_vacation_similarity)\n"
      ],
      "metadata": {
        "colab": {
          "base_uri": "https://localhost:8080/"
        },
        "id": "zx0AJ5Iv32e9",
        "outputId": "133b429c-5bef-4303-afbc-50ea661243d1"
      },
      "execution_count": 3,
      "outputs": [
        {
          "output_type": "stream",
          "name": "stdout",
          "text": [
            "Path similarity between 'mouse' and 'horse': 0.14285714285714285\n",
            "Path similarity between 'horse' and 'vacation': 0.045454545454545456\n"
          ]
        }
      ]
    },
    {
      "cell_type": "code",
      "source": [
        "#question c\n",
        "import numpy as np\n",
        "\n",
        "# Load Glove word vectors\n",
        "def load_glove_vectors(file_path):\n",
        "    word_vectors = {}\n",
        "    with open(file_path, 'r', encoding='utf-8') as f:\n",
        "        for line in f:\n",
        "            values = line.split()\n",
        "            word = values[0]\n",
        "            vector = np.array(values[1:], dtype='float32')\n",
        "            word_vectors[word] = vector\n",
        "    return word_vectors\n",
        "\n",
        "# Compute cosine similarity between two words\n",
        "def cosine_similarity(word1, word2, word_vectors):\n",
        "    if word1 not in word_vectors or word2 not in word_vectors:\n",
        "        return None\n",
        "\n",
        "    vec1 = word_vectors[word1]\n",
        "    vec2 = word_vectors[word2]\n",
        "\n",
        "    dot_product = np.dot(vec1, vec2)\n",
        "    norm1 = np.linalg.norm(vec1)\n",
        "    norm2 = np.linalg.norm(vec2)\n",
        "\n",
        "    similarity = dot_product / (norm1 * norm2)\n",
        "    return similarity\n",
        "\n",
        "# Example usage\n",
        "glove_file_path = '/content/drive/MyDrive/nlp/hw5/glove.6B/glove.6B.50d.txt'\n",
        "word_vectors = load_glove_vectors(glove_file_path)\n",
        "\n",
        "\n",
        "\n"
      ],
      "metadata": {
        "id": "8kZ1dkXnRp7S"
      },
      "execution_count": 4,
      "outputs": []
    },
    {
      "cell_type": "code",
      "source": [
        "#question d\n",
        "word1 = 'mouse'\n",
        "word2 = 'horse'\n",
        "similarity = cosine_similarity(word1, word2, word_vectors)\n",
        "print(f\"Similarity between '{word1}' and '{word2}': {similarity:.4f}\")"
      ],
      "metadata": {
        "colab": {
          "base_uri": "https://localhost:8080/"
        },
        "id": "CIMYjDHtobfX",
        "outputId": "33d12018-b124-47c1-e58c-088a34294a39"
      },
      "execution_count": 5,
      "outputs": [
        {
          "output_type": "stream",
          "name": "stdout",
          "text": [
            "Similarity between 'mouse' and 'horse': 0.4356\n"
          ]
        }
      ]
    },
    {
      "cell_type": "code",
      "source": [
        "word1 = 'horse'\n",
        "word2 = 'vacation'\n",
        "similarity = cosine_similarity(word1, word2, word_vectors)\n",
        "print(f\"Similarity between '{word1}' and '{word2}': {similarity:.4f}\")"
      ],
      "metadata": {
        "colab": {
          "base_uri": "https://localhost:8080/"
        },
        "id": "vCdecyOSoit0",
        "outputId": "b54d92ce-1842-46d6-89a7-b48d26f17097"
      },
      "execution_count": 6,
      "outputs": [
        {
          "output_type": "stream",
          "name": "stdout",
          "text": [
            "Similarity between 'horse' and 'vacation': 0.3102\n"
          ]
        }
      ]
    }
  ]
}